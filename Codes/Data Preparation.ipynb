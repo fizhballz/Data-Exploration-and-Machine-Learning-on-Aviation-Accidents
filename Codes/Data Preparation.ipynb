#Data Acquisition  
#  
#The NTSB aviation accident database contains information from 1962 and later about civil aviation accidents and selected incidents within the United States, 
its territories and possessions, and in international waters  
#
#Pre-requisite  
import pandas as pd
import numpy as np
import matplotlib.pyplot as plt
import seaborn as sb
from sklearn.metrics import mean_squared_error
from sklearn.linear_model import LinearRegression
from sklearn.model_selection import train_test_split
from sklearn.ensemble import RandomForestRegressor
from sklearn.linear_model import LogisticRegression
from sklearn.metrics import confusion_matrix
from sklearn.metrics import classification_report
from sklearn.tree import DecisionTreeClassifier
from sklearn.ensemble import RandomForestClassifier
from statistics import mean
sb.set()
pd.set_option('display.max_columns', None)  
#   
#Import Aviation Data csv file into variable, df
#Encoding argument used, otherwise will have error
df = pd.read_csv("AviationData.csv", encoding='ISO-8859-1')  
#  
#At a glance, 31 columns, 87282 rows
print(df.shape)  
#    
#5 Numerical Dtypes, 26 Categorical Dtypes
df.info()
#  
#Describe numerical columns
df.describe()
